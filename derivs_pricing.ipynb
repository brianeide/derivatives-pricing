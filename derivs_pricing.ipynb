{
 "cells": [
  {
   "cell_type": "code",
   "execution_count": 1,
   "id": "f92ce7df",
   "metadata": {},
   "outputs": [],
   "source": [
    "# Import libraries\n",
    "import pandas as pd\n",
    "import math\n",
    "from scipy.stats import norm"
   ]
  },
  {
   "cell_type": "code",
   "execution_count": 2,
   "id": "83c7fda1",
   "metadata": {},
   "outputs": [
    {
     "name": "stdout",
     "output_type": "stream",
     "text": [
      "Ticker Symbol: AAPL\n",
      "Volatility: 0.3546863540421135\n"
     ]
    }
   ],
   "source": [
    "# Calculate annualized historical volatility\n",
    "symbol = input(\"Ticker Symbol: \")\n",
    "price_history = pd.read_csv(f\"{symbol}.csv\")\n",
    "price_history.drop(\"Open\", axis=1, inplace=True)\n",
    "price_history.drop(\"High\", axis=1, inplace=True)\n",
    "price_history.drop(\"Low\", axis=1, inplace=True)\n",
    "price_history.drop(\"Close\", axis=1, inplace=True)\n",
    "price_history.drop(\"Volume\", axis=1, inplace=True)\n",
    "price_history[\"Daily Rate\"] = None\n",
    "count = len(price_history.index)\n",
    "for i in range(1, count):\n",
    "    prev_price = price_history.loc[i - 1, \"Adj Close\"]\n",
    "    curr_price = price_history.loc[i, \"Adj Close\"]\n",
    "    price_history.loc[i, \"Daily Rate\"] = math.log(curr_price / prev_price)\n",
    "\n",
    "sample_mean = price_history[\"Daily Rate\"].fillna(0).sum() / (count - 1)\n",
    "\n",
    "price_history[\"Deviation\"] = None\n",
    "\n",
    "for i in range(1, count):\n",
    "    rate = price_history.loc[i, \"Daily Rate\"]\n",
    "    price_history.loc[i, \"Deviation\"] = pow(rate - sample_mean, 2)\n",
    "\n",
    "sample_stdev = math.sqrt(price_history[\"Deviation\"].fillna(0).sum() / (count - 1))\n",
    "VOLATILITY = math.sqrt(count) * sample_stdev\n",
    "print(\"Volatility:\", VOLATILITY)"
   ]
  },
  {
   "cell_type": "code",
   "execution_count": 3,
   "id": "4dfa61aa",
   "metadata": {},
   "outputs": [
    {
     "name": "stdout",
     "output_type": "stream",
     "text": [
      "Risk-free Rate: 0.05\n",
      "Dividend Yield: 0.0071\n",
      "Current Spot Price: 129.93\n"
     ]
    }
   ],
   "source": [
    "# Additional Inputs\n",
    "RISK_FREE = float(input(\"Risk-free Rate: \"))\n",
    "DIVIDEND_YIELD = float(input(\"Dividend Yield: \"))\n",
    "SPOT = float(input(\"Current Spot Price: \"))"
   ]
  },
  {
   "cell_type": "code",
   "execution_count": 4,
   "id": "0f70f5ab",
   "metadata": {},
   "outputs": [
    {
     "name": "stdout",
     "output_type": "stream",
     "text": [
      "Strike Price: 120\n",
      "Time Until Expiration (yrs): 1\n"
     ]
    }
   ],
   "source": [
    "# Black-Scholes Inputs\n",
    "STRIKE = float(input(\"Strike Price: \"))\n",
    "EXPIRY = float(input(\"Time Until Expiration (yrs): \"))"
   ]
  },
  {
   "cell_type": "code",
   "execution_count": 5,
   "id": "355e7c19",
   "metadata": {},
   "outputs": [
    {
     "name": "stdout",
     "output_type": "stream",
     "text": [
      "25.54225025904725\n"
     ]
    }
   ],
   "source": [
    "# Black-Scholes Formula\n",
    "d1 = (math.log(SPOT / STRIKE) + (RISK_FREE - DIVIDEND_YIELD + 0.5 * pow(VOLATILITY, 2)) * EXPIRY) / (VOLATILITY * math.sqrt(EXPIRY))\n",
    "d2 = d1 - VOLATILITY * math.sqrt(EXPIRY)\n",
    "call = SPOT * math.exp(-DIVIDEND_YIELD * EXPIRY) * norm.cdf(d1) - STRIKE * math.exp(-RISK_FREE * EXPIRY) * norm.cdf(d2)\n",
    "print(call)"
   ]
  }
 ],
 "metadata": {
  "kernelspec": {
   "display_name": "Python 3 (ipykernel)",
   "language": "python",
   "name": "python3"
  },
  "language_info": {
   "codemirror_mode": {
    "name": "ipython",
    "version": 3
   },
   "file_extension": ".py",
   "mimetype": "text/x-python",
   "name": "python",
   "nbconvert_exporter": "python",
   "pygments_lexer": "ipython3",
   "version": "3.9.6"
  }
 },
 "nbformat": 4,
 "nbformat_minor": 5
}
