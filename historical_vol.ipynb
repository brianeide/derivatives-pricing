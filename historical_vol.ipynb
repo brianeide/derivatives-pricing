{
 "cells": [
  {
   "cell_type": "code",
   "execution_count": 1,
   "id": "ff369f99",
   "metadata": {},
   "outputs": [],
   "source": [
    "# Import libraries\n",
    "import pandas as pd\n",
    "import math"
   ]
  },
  {
   "cell_type": "markdown",
   "id": "d18e7192",
   "metadata": {},
   "source": [
    "### Calculate annualized historical volatility\n",
    "1. Calculate the daily rates using the natural log of daily return\n",
    "$$x_t = ln(\\frac{S_t}{S_{t-1}})$$\n",
    "2. Calculate the sample mean of daily rates\n",
    "$$\\bar{x}=\\frac{\\sum_{i=0}^{n-1}x_i}{n-1}$$\n",
    "3. Calculate deviations of daily rates\n",
    "$$\\sigma_t=(x_t-\\bar{x})^2$$\n",
    "4. Calculate the standard deviation\n",
    "$$\\sigma_{daily}=\\sqrt{\\frac{\\sum_{i=0}^{n-1}\\sigma_i}{n-1}}$$\n",
    "5. Annualize the daily standard deviation\n",
    "$$\\sigma_{annual}=\\sigma_{daily}\\sqrt{n}$$\n",
    "$$\\text{where }n=\\text{number of days}$$"
   ]
  },
  {
   "cell_type": "code",
   "execution_count": 2,
   "id": "7c8022c2",
   "metadata": {},
   "outputs": [
    {
     "name": "stdout",
     "output_type": "stream",
     "text": [
      "Ticker Symbol: AAPL\n",
      "Volatility: 0.3546863540421135\n"
     ]
    }
   ],
   "source": [
    "symbol = input(\"Ticker Symbol: \")\n",
    "price_history = pd.read_csv(f\"{symbol}.csv\", skipinitialspace=True, usecols=[\"Adj Close\"])\n",
    "price_history[\"Daily Rate\"] = None\n",
    "price_history[\"Deviation\"] = None\n",
    "\n",
    "count = len(price_history.index)\n",
    "for i in range(1, count):\n",
    "    prev_price = price_history.loc[i - 1, \"Adj Close\"]\n",
    "    curr_price = price_history.loc[i, \"Adj Close\"]\n",
    "    price_history.loc[i, \"Daily Rate\"] = math.log(curr_price / prev_price)\n",
    "\n",
    "sample_mean = price_history[\"Daily Rate\"].fillna(0).sum() / (count - 1)\n",
    "\n",
    "for i in range(1, count):\n",
    "    rate = price_history.loc[i, \"Daily Rate\"]\n",
    "    price_history.loc[i, \"Deviation\"] = pow(rate - sample_mean, 2)\n",
    "\n",
    "sample_stdev = math.sqrt(price_history[\"Deviation\"].fillna(0).sum() / (count - 1))\n",
    "VOLATILITY = math.sqrt(count) * sample_stdev\n",
    "print(\"Historical Volatility:\", VOLATILITY)"
   ]
  }
 ],
 "metadata": {
  "kernelspec": {
   "display_name": "Python 3 (ipykernel)",
   "language": "python",
   "name": "python3"
  },
  "language_info": {
   "codemirror_mode": {
    "name": "ipython",
    "version": 3
   },
   "file_extension": ".py",
   "mimetype": "text/x-python",
   "name": "python",
   "nbconvert_exporter": "python",
   "pygments_lexer": "ipython3",
   "version": "3.9.6"
  }
 },
 "nbformat": 4,
 "nbformat_minor": 5
}
