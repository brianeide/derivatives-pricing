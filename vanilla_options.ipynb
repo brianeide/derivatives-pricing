{
 "cells": [
  {
   "cell_type": "code",
   "execution_count": 1,
   "id": "f92ce7df",
   "metadata": {},
   "outputs": [],
   "source": [
    "# Import libraries\n",
    "import math\n",
    "from scipy.stats import norm\n",
    "import matplotlib.pyplot as plt"
   ]
  },
  {
   "cell_type": "code",
   "execution_count": 2,
   "id": "4dfa61aa",
   "metadata": {},
   "outputs": [
    {
     "name": "stdout",
     "output_type": "stream",
     "text": [
      "Risk-free Rate: 0.05\n",
      "Dividend Yield: 0.0053\n",
      "Current Spot Price: 175.05\n",
      "Volatility: 0.1616\n"
     ]
    }
   ],
   "source": [
    "# Additional Inputs\n",
    "RISK_FREE = float(input(\"Risk-free Rate: \"))\n",
    "DIVIDEND_YIELD = float(input(\"Dividend Yield: \"))\n",
    "SPOT = float(input(\"Current Spot Price: \"))\n",
    "VOLATILITY = float(input(\"Volatility: \"))"
   ]
  },
  {
   "cell_type": "code",
   "execution_count": 3,
   "id": "0f70f5ab",
   "metadata": {},
   "outputs": [
    {
     "name": "stdout",
     "output_type": "stream",
     "text": [
      "Strike Price: 180\n",
      "Time Until Expiration (yrs): 0.021917\n"
     ]
    }
   ],
   "source": [
    "# Black-Scholes Inputs\n",
    "STRIKE = float(input(\"Strike Price: \"))\n",
    "EXPIRY = float(input(\"Time Until Expiration (yrs): \"))"
   ]
  },
  {
   "cell_type": "markdown",
   "id": "51cd332b",
   "metadata": {},
   "source": [
    "### Black-Scholes formula\n",
    "$$C=S_0e^{-\\delta(T-t)}N(d_1)-Ke^{-r(T-t)}N(d_2)$$\n",
    "$$P=Ke^{-r(T-t)}N(-d_2)-S_0e^{-\\delta(T-t)}N(-d_1)$$\n",
    "$$\\text{where }d_1=\\frac{ln\\frac{S_0}{K}+(r-\\delta+\\frac{\\sigma^2}{2})(T-t)}{\\sigma\\sqrt{T-t}}$$\n",
    "$$\\text{and }d_2=d_1-\\sigma\\sqrt{T-t}$$\n",
    "- $C=\\text{European call price}$\n",
    "- $P=\\text{European put price}$\n",
    "- $N(x)=\\text{CDF of the normal distribution}$\n",
    "- $S_0=\\text{Current spot price}$\n",
    "- $K=\\text{Strike price}$\n",
    "- $r=\\text{Risk-free interest rate}$\n",
    "- $\\delta=\\text{Dividend yield}$\n",
    "- $T-t=\\text{Time until expiration}$\n",
    "- $\\sigma=\\text{Volatility of asset}$\n",
    "\n",
    "### Measures of Risk\n",
    "\n",
    "#### Delta\n",
    "$$\\text{Call }\\Delta=\\frac{\\partial C}{\\partial S}=e^{-\\delta(T-t)}N(d_1)$$\n",
    "$$\\text{Put }\\Delta=\\frac{\\partial P}{\\partial S}=e^{-\\delta(T-t)}N(d_1)-1$$\n",
    "\n",
    "#### Gamma\n",
    "$$\\Gamma=\\frac{\\partial^2 V}{\\partial S^2}=\\frac{\\partial \\Delta}{\\partial S}=\\frac{N'(d_1)}{S\\sigma\\sqrt{T-t}}$$\n",
    "\n",
    "#### Vega\n",
    "$$\\frac{\\partial V}{\\partial\\sigma}=SN'(d_1)\\sqrt{T-t}$$\n",
    "\n",
    "#### Theta\n",
    "$$\\text{Call }\\Theta=\\frac{\\partial C}{\\partial t}=-\\frac{SN'(d_1)\\sigma}{2\\sqrt{T-t}}-rKe^{-r(T-t)}N(d_2)$$\n",
    "$$\\text{Put }\\Theta=\\frac{\\partial P}{\\partial t}=-\\frac{SN'(d_1)\\sigma}{2\\sqrt{T-t}}+rKe^{-r(T-t)}N(-d_2)$$\n",
    "\n",
    "#### Rho\n",
    "$$\\text{Call }\\mathrm{P}=\\frac{\\partial C}{\\partial r}=K(T-t)e^{-r(T-t)}N(d_2)$$\n",
    "$$\\text{Put }\\mathrm{P}=\\frac{\\partial P}{\\partial r}=-K(T-t)e^{-r(T-t)}N(-d_2)$$"
   ]
  },
  {
   "cell_type": "code",
   "execution_count": 4,
   "id": "9fe16c6c",
   "metadata": {},
   "outputs": [],
   "source": [
    "class European:\n",
    "    def __init__(self, strike: float, tte: float, call: bool):\n",
    "        self.strike = strike\n",
    "        self.tte = tte  # Time til expiration\n",
    "        self.call = call\n",
    "        \n",
    "        self.spot = strike\n",
    "        self.rfr = 0\n",
    "        self.dy = 0\n",
    "        self.vol = 0\n",
    "    \n",
    "    def set_inputs(self, spot: float, risk_free: float, dividend_yield: float, vol: float):\n",
    "        self.spot = spot\n",
    "        self.rfr = risk_free\n",
    "        self.dy = dividend_yield\n",
    "        self.vol = vol\n",
    "    \n",
    "    def get_d(self):\n",
    "        d1 = (math.log(self.spot / self.strike) + (self.rfr - self.dy + 0.5 * pow(self.vol, 2)) * self.tte) / (self.vol * math.sqrt(self.tte))\n",
    "        d2 = d1 - self.vol * math.sqrt(self.tte)\n",
    "        return d1, d2\n",
    "    \n",
    "    def get_price(self):\n",
    "        d1, d2 = self.get_d()\n",
    "        if self.call:\n",
    "            return self.spot * math.exp(-self.dy * self.tte) * norm.cdf(d1) - self.strike * math.exp(-self.rfr * self.tte) * norm.cdf(d2)\n",
    "        else:\n",
    "            return self.strike * math.exp(-self.rfr * self.tte) * norm.cdf(-d2) - self.spot * math.exp(-self.dy * self.tte) * norm.cdf(-d1)\n",
    "    \n",
    "    def get_delta(self):\n",
    "        d1, _ = self.get_d()\n",
    "        return math.exp(-self.dy * self.tte) * norm.cdf(d1) + (0 if self.call else -1)\n",
    "    \n",
    "    def get_gamma(self):\n",
    "        d1, _ = self.get_d()\n",
    "        return norm.pdf(d1) / (self.spot * self.vol * math.sqrt(self.tte))\n",
    "    \n",
    "    def get_vega(self):\n",
    "        d1, _ = self.get_d()\n",
    "        return self.spot * norm.pdf(d1) * math.sqrt(self.tte)\n",
    "    \n",
    "    def get_theta(self):\n",
    "        d1, d2 = self.get_d()\n",
    "        first_piece = -self.spot * norm.pdf(d1) * self.vol / (2 * math.sqrt(self.tte))\n",
    "        second_piece = self.rfr * self.strike * math.exp(-self.rfr * self.tte) * (-norm.cdf(d2) if self.call else norm.cdf(-d2))\n",
    "        return first_piece + second_piece\n",
    "    \n",
    "    def get_rho(self):\n",
    "        _, d2 = self.get_d()\n",
    "        return self.strike * self.tte * math.exp(-self.rfr * self.tte) * (norm.cdf(d2) if self.call else -norm.cdf(-d2))\n"
   ]
  },
  {
   "cell_type": "code",
   "execution_count": 5,
   "id": "0d1b392f",
   "metadata": {},
   "outputs": [
    {
     "name": "stdout",
     "output_type": "stream",
     "text": [
      "Call price: 0.27731210455756994\n",
      "Call delta: 0.13291023121996268\n",
      "Call gamma: 0.05129577079460235\n",
      "Call vega: 5.567090154216741\n",
      "Call theta: -21.673265863448318\n",
      "Call rho: 0.5038416693696804\n",
      "Put price: 5.050499789499753\n",
      "Put delta: -0.8670897687800373\n",
      "Put gamma: 0.05129577079460235\n",
      "Put vega: 5.567090154216741\n",
      "Put theta: -12.683123111429264\n",
      "Put rho: -3.4368975045503514\n"
     ]
    }
   ],
   "source": [
    "call_option = European(strike=STRIKE, tte=EXPIRY, call=True)\n",
    "call_option.set_inputs(spot=SPOT, risk_free=RISK_FREE, dividend_yield=DIVIDEND_YIELD, vol=VOLATILITY)\n",
    "print(\"Call price:\", call_option.get_price())\n",
    "print(\"Call delta:\", call_option.get_delta())\n",
    "print(\"Call gamma:\", call_option.get_gamma())\n",
    "print(\"Call vega:\", call_option.get_vega())\n",
    "print(\"Call theta:\", call_option.get_theta())\n",
    "print(\"Call rho:\", call_option.get_rho())\n",
    "\n",
    "put_option = European(strike=STRIKE, tte=EXPIRY, call=False)\n",
    "put_option.set_inputs(spot=SPOT, risk_free=RISK_FREE, dividend_yield=DIVIDEND_YIELD, vol=VOLATILITY)\n",
    "print(\"Put price:\", put_option.get_price())\n",
    "print(\"Put delta:\", put_option.get_delta())\n",
    "print(\"Put gamma:\", put_option.get_gamma())\n",
    "print(\"Put vega:\", put_option.get_vega())\n",
    "print(\"Put theta:\", put_option.get_theta())\n",
    "print(\"Put rho:\", put_option.get_rho())"
   ]
  },
  {
   "cell_type": "code",
   "execution_count": 6,
   "id": "14e0da2c",
   "metadata": {},
   "outputs": [],
   "source": [
    "call_prices = []\n",
    "for days_left in range(1, 366):\n",
    "    call_prices.append([])\n",
    "    tte = days_left / 365.0\n",
    "    opt = European(strike=STRIKE, tte=tte, call=True)\n",
    "    for price in range(1, 251):\n",
    "        opt.set_inputs(spot=price, risk_free=RISK_FREE, dividend_yield=DIVIDEND_YIELD, vol=VOLATILITY)\n",
    "        call_prices[days_left - 1].append(opt.get_price())"
   ]
  },
  {
   "cell_type": "code",
   "execution_count": 7,
   "id": "cdbd0169",
   "metadata": {},
   "outputs": [
    {
     "data": {
      "image/png": "[encoded data removed]",
      "text/plain": [
       "<Figure size 640x480 with 1 Axes>"
      ]
     },
     "metadata": {},
     "output_type": "display_data"
    }
   ],
   "source": [
    "plt.plot(list(range(1, 251)), call_prices[364])\n",
    "plt.title(\"Call Prices vs. Strike\")\n",
    "plt.xlabel(\"Strike\")\n",
    "plt.ylabel(\"Price\")\n",
    "plt.show()"
   ]
  }
 ],
 "metadata": {
  "kernelspec": {
   "display_name": "Python 3 (ipykernel)",
   "language": "python",
   "name": "python3"
  },
  "language_info": {
   "codemirror_mode": {
    "name": "ipython",
    "version": 3
   },
   "file_extension": ".py",
   "mimetype": "text/x-python",
   "name": "python",
   "nbconvert_exporter": "python",
   "pygments_lexer": "ipython3",
   "version": "3.9.6"
  }
 },
 "nbformat": 4,
 "nbformat_minor": 5
}
